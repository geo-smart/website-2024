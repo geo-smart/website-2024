{
 "cells": [
  {
   "cell_type": "markdown",
   "metadata": {
    "tags": []
   },
   "source": [
    "# Model Development\n",
    "## Machine Learning for Post-Processing NWM Data \n",
    "**Authors: Savalan Naser Neisary (PhD Student, CIROH & The University of Alabama)**\n",
    "\n",
    "\n"
   ]
  },
  {
   "cell_type": "markdown",
   "metadata": {
    "collapsed": false,
    "jupyter": {
     "outputs_hidden": false
    }
   },
   "source": [
    "### 3. Setting Up the Codes and Notebook\n",
    "\n",
    "#### 3.1. Access the GitHub Codes\n",
    "First we download the code files from the GitHub. In the terminal you should use the following command:"
   ]
  },
  {
   "cell_type": "raw",
   "metadata": {
    "collapsed": false,
    "jupyter": {
     "outputs_hidden": false
    }
   },
   "source": [
    "git clone https://github.com/geo-smart/website-2024"
   ]
  },
  {
   "cell_type": "markdown",
   "metadata": {},
   "source": [
    "#### 3.2. Import the Python Libraries\n",
    "Next we will import the libraries that we need. "
   ]
  },
  {
   "cell_type": "code",
   "execution_count": null,
   "metadata": {},
   "outputs": [],
   "source": [
    "!pip install hydroeval xgboost"
   ]
  },
  {
   "cell_type": "code",
   "execution_count": null,
   "metadata": {},
   "outputs": [],
   "source": [
    "# system packages\n",
    "from datetime import datetime, date, timedelta\n",
    "import pickle\n",
    "import warnings\n",
    "warnings.filterwarnings(\"ignore\")\n",
    "import platform\n",
    "import time\n",
    "from tqdm import tqdm\n",
    "import os\n",
    "import boto3\n",
    "from botocore.client import Config\n",
    "from botocore import UNSIGNED\n",
    "\n",
    "# basic packages\n",
    "import matplotlib.pyplot as plt\n",
    "import numpy as np\n",
    "import pandas as pd\n",
    "import matplotlib.pyplot as plt\n",
    "import matplotlib.dates as mdates\n",
    "from matplotlib.patches import Patch\n",
    "import math\n",
    "from evaluation_table import EvalTable\n",
    "\n",
    "# model packages\n",
    "import xgboost as xgb\n",
    "from sklearn.model_selection import GridSearchCV, train_test_split, RepeatedKFold, cross_val_score\n",
    "from sklearn.metrics import mean_squared_error, mean_absolute_error, make_scorer\n",
    "from sklearn.preprocessing import MinMaxScaler\n",
    "import joblib\n",
    "from shapely.geometry import Point\n",
    "import geopandas as gpd\n",
    "import pyproj\n",
    "\n",
    "# Identify the path\n",
    "home = os.getcwd()\n",
    "parent_path = os.path.dirname(home)\n",
    "input_path = f'{parent_path}/02.input/'\n",
    "new_directory = os.path.join(parent_path, '03.output')\n",
    "os.makedirs(new_directory, exist_ok=True)\n",
    "output_path = f'{parent_path}/03.output/'\n",
    "main_path = home"
   ]
  },
  {
   "cell_type": "markdown",
   "metadata": {
    "collapsed": false,
    "jupyter": {
     "outputs_hidden": false
    }
   },
   "source": [
    "## 4. Data Preprocessing\n",
    "#### 4.1. Overview of the USGS Stream Station\n",
    "- The dataset that we will use provides the data for seven GSL watershed stations. \n",
    "- The dataset contains climate variables, such as precipitation and temperature, water infrastructure, storage percentage, and watershed characteristics, such as average area and elevation. \n",
    "You can see the location of the station and its watershed in the Figure below. "
   ]
  },
  {
   "cell_type": "markdown",
   "metadata": {
    "collapsed": false,
    "jupyter": {
     "outputs_hidden": false
    }
   },
   "source": [
    "#### 4.2. Load Dataset\n",
    "- We will load the data from a parquet file and choose the required stations. "
   ]
  },
  {
   "cell_type": "code",
   "execution_count": null,
   "metadata": {},
   "outputs": [],
   "source": [
    "# List of station IDs that are of interest.\n",
    "stations = ['10126000', '10130500', '10134500', '10136500', '10137500', '10141000', '10155000', '10164500', '10171000']\n",
    "\n",
    "# Read a CSV file into a DataFrame and set the first column as the index.\n",
    "df = df = pd.read_parquet(f'{input_path}final_input.parquet')\n",
    "\n",
    "# Convert the station_id column to string data type.\n",
    "df.station_id = df.station_id.astype(str)\n",
    "\n",
    "# Convert the 'datetime' column to datetime objects.\n",
    "df.datetime = pd.to_datetime(df.datetime)\n",
    "\n",
    "# Filter the DataFrame to include only the rows where 'station_id' is in the 'stations' list.\n",
    "df_modified = df[df['station_id'].isin(stations)]\n",
    "\n",
    "# Select specific columns to create a new DataFrame.\n",
    "dataset = df_modified[['station_id', 'datetime', 'Lat', 'Long', 'Drainage_area_mi2', 'Mean_Basin_Elev_ft',\n",
    "       'Perc_Forest', 'Perc_Develop', 'Perc_Imperv', 'Perc_Herbace',\n",
    "       'Perc_Slop_30', 'Mean_Ann_Precip_in', 's1',\n",
    "       's2', 'storage', 'swe', 'NWM_flow', 'DOY','tempe(F)', 'precip(mm)', 'flow_cfs']]\n",
    "\n",
    "# Extract a list of unique station IDs from the modified dataset.\n",
    "station_list = dataset.station_id.unique()\n"
   ]
  },
  {
   "cell_type": "markdown",
   "metadata": {},
   "source": [
    "#### 4.3. Visualizing the Data\n",
    "- The takeaway from data visualization is to gather information about data distribution, outliers, missing values, correlation between different variables, and time dependencies between variables.\n",
    "- Here, we will use boxplots, histograms, and combo bar and line plots to show outliers, distribution, and time dependencies in streamflow, precipitation, temperature, and SWE."
   ]
  },
  {
   "cell_type": "markdown",
   "metadata": {},
   "source": [
    "First, we will plot the time dependencies using bar and line plots for streamflow vs SWE. "
   ]
  },
  {
   "cell_type": "code",
   "execution_count": null,
   "metadata": {},
   "outputs": [],
   "source": [
    "%%time\n",
    "\n",
    "figsize = (9, 6)  # Set the figure size for the plot.\n",
    "fig, ax = plt.subplots(figsize=figsize)\n",
    "\n",
    "\n",
    "# Extract data for the current station.\n",
    "temp_df_1 = dataset[dataset.station_id == station_list[0]]\n",
    "# Set 'datetime' as the index for the DataFrame for plotting.\n",
    "temp_df_2 = temp_df_1.set_index('datetime')\n",
    "# Plot 'flow_cfs' on the primary y-axis.\n",
    "ax.plot(temp_df_2.index, temp_df_2['flow_cfs'])\n",
    "# Set x-axis limits from the minimum to maximum year of data.\n",
    "start_year = pd.to_datetime(f'{temp_df_1.datetime.dt.year.min()}-01-01')\n",
    "end_year = pd.to_datetime(f'{temp_df_1.datetime.dt.year.max()}-12-31')\n",
    "ax.set_xlim(start_year, end_year)\n",
    "# Get current x-tick labels and set their rotation for better visibility.\n",
    "labels = ax.get_xticklabels()\n",
    "ax.set_xticklabels(labels, rotation=45)\n",
    "\n",
    "# Create a secondary y-axis for Snow Water Equivalent (SWE).\n",
    "ax2 = ax.twinx()\n",
    "# Plot SWE as a bar graph on the secondary y-axis.\n",
    "ax2.bar(temp_df_2.index, temp_df_2['swe'], label='Inverted', color='red')\n",
    "# Set the y-axis limits for SWE, flipping the axis to make bars grow downward.\n",
    "ax2.set_ylim(max(temp_df_2['swe']) + 40, 0)\n",
    "# Set label for the secondary y-axis.\n",
    "ax2.set_ylabel('SWE (in)')\n",
    "# Define custom ticks for the secondary y-axis.\n",
    "ax2.set_yticks(np.arange(0, max(temp_df_2['swe']), 5))\n",
    "\n",
    "# Set the title of the subplot to the station ID.\n",
    "ax.set_title(f'{station_list[0]}')\n",
    "# Set the x-axis label for subplots in the last row.\n",
    "ax.set_xlabel('Datetime (day)')\n",
    "\n",
    "# Set the y-axis label for subplots in the first column.\n",
    "\n",
    "ax.set_ylabel('Streamflow (cfs)')\n",
    "\n",
    "\n",
    "# Adjust the layout to prevent overlapping elements.\n",
    "plt.tight_layout()\n",
    "# Uncomment the line below to save the figure to a file.\n",
    "# plt.savefig(f'{save_path}scatter_annual_drought_number.png')\n",
    "# Display the plot.\n",
    "plt.show()\n"
   ]
  },
  {
   "cell_type": "markdown",
   "metadata": {},
   "source": [
    "The next plot shows precipitation vs streamflow. "
   ]
  },
  {
   "cell_type": "code",
   "execution_count": null,
   "metadata": {},
   "outputs": [],
   "source": [
    "%%time\n",
    "\n",
    "figsize = (9, 6)  # Set the figure size for the plot.\n",
    "fig, ax = plt.subplots(figsize=figsize)\n",
    "\n",
    "\n",
    "# Extract the data for the current station from the dataset.\n",
    "temp_df_1 = dataset[dataset.station_id == station_list[0]]\n",
    "# Set 'datetime' as the index for plotting.\n",
    "temp_df_2 = temp_df_1.set_index('datetime')\n",
    "# Plot the 'flow_cfs' data on the primary y-axis.\n",
    "ax.plot(temp_df_2.index, temp_df_2['flow_cfs'])\n",
    "# Set the x-axis limits from the first to the last year of data.\n",
    "start_year = pd.to_datetime(f'{temp_df_1.datetime.dt.year.min()}-01-01')\n",
    "end_year = pd.to_datetime(f'{temp_df_1.datetime.dt.year.max()}-12-31')\n",
    "ax.set_xlim(start_year, end_year)\n",
    "# Rotate x-axis labels for better readability.\n",
    "labels = ax.get_xticklabels()\n",
    "ax.set_xticklabels(labels, rotation=45)\n",
    "\n",
    "# Create a second y-axis for the precipitation data.\n",
    "ax2 = ax.twinx()\n",
    "# Plot the 'precip(mm)' data as a bar graph on the secondary y-axis.\n",
    "ax2.bar(temp_df_2.index, temp_df_2['precip(mm)'], label='Inverted', color='red', width=25)\n",
    "# Set the y-axis limits for precipitation, flipping the axis to make bars grow downward.\n",
    "ax2.set_ylim(max(temp_df_2['precip(mm)']) + 1000, 0)\n",
    "# Set the label for the secondary y-axis.\n",
    "ax2.set_ylabel('Precipitation (mm)')\n",
    "# Define custom ticks for the secondary y-axis.\n",
    "ax2.set_yticks(np.arange(0, max(temp_df_2['precip(mm)']), 250))\n",
    "\n",
    "# Set the title of the subplot to the station ID.\n",
    "ax.set_title(f'{station_list[0]}')\n",
    "# Set the x-axis label for subplots in the last row.\n",
    "\n",
    "ax.set_xlabel('Datetime (day)')\n",
    "\n",
    "# Set the y-axis label for subplots in the first column.\n",
    "\n",
    "ax.set_ylabel('Streamflow (cfs)')\n",
    "\n",
    "\n",
    "\n",
    "# Adjust the layout to prevent overlapping elements.\n",
    "plt.tight_layout()\n",
    "# Uncomment the line below to save the figure to a file.\n",
    "# plt.savefig(f'{save_path}scatter_annual_drought_number.png')\n",
    "# Display the plot.\n",
    "plt.show()\n"
   ]
  },
  {
   "cell_type": "markdown",
   "metadata": {},
   "source": [
    "Now we will plot all the stations."
   ]
  },
  {
   "cell_type": "code",
   "execution_count": null,
   "metadata": {},
   "outputs": [],
   "source": [
    "%%time\n",
    "# Initialize variables for the number of plots, columns, and rows based on the number of unique stations.\n",
    "n_subplots = len(station_list)\n",
    "n_cols = int(math.ceil(math.sqrt(n_subplots)))  # Calculate columns as the ceiling of the square root of number of subplots.\n",
    "n_rows = int(math.ceil(n_subplots / n_cols))  # Calculate rows as the ceiling of the ratio of subplots to columns.\n",
    "figsize = (18, 12)  # Set the figure size for the plot.\n",
    "# Create a figure and a grid of subplots with the specified number of rows and columns.\n",
    "fig, axes = plt.subplots(n_rows, n_cols, figsize=figsize)\n",
    "axes = axes.flatten()  # Flatten the axes array for easier iteration.\n",
    "\n",
    "# Iterate over each axis to plot data for each station.\n",
    "for i, ax in enumerate(axes):\n",
    "    if i < n_subplots:  # Check if the current index is less than the number of subplots to populate.\n",
    "        # Extract data for the current station.\n",
    "        temp_df_1 = dataset[dataset.station_id == station_list[i]]\n",
    "        # Set 'datetime' as the index for the DataFrame for plotting.\n",
    "        temp_df_2 = temp_df_1.set_index('datetime')\n",
    "        # Plot 'flow_cfs' on the primary y-axis.\n",
    "        ax.plot(temp_df_2.index, temp_df_2['flow_cfs'])\n",
    "        # Set x-axis limits from the minimum to maximum year of data.\n",
    "        start_year = pd.to_datetime(f'{temp_df_1.datetime.dt.year.min()}-01-01')\n",
    "        end_year = pd.to_datetime(f'{temp_df_1.datetime.dt.year.max()}-12-31')\n",
    "        ax.set_xlim(start_year, end_year)\n",
    "        # Get current x-tick labels and set their rotation for better visibility.\n",
    "        labels = ax.get_xticklabels()\n",
    "        ax.set_xticklabels(labels, rotation=45)\n",
    "\n",
    "        # Create a secondary y-axis for Snow Water Equivalent (SWE).\n",
    "        ax2 = ax.twinx()\n",
    "        # Plot SWE as a bar graph on the secondary y-axis.\n",
    "        ax2.bar(temp_df_2.index, temp_df_2['swe'], label='Inverted', color='red')\n",
    "        # Set the y-axis limits for SWE, flipping the axis to make bars grow downward.\n",
    "        ax2.set_ylim(max(temp_df_2['swe']) + 40, 0)\n",
    "        # Set label for the secondary y-axis.\n",
    "        ax2.set_ylabel('SWE')\n",
    "        # Define custom ticks for the secondary y-axis.\n",
    "        ax2.set_yticks(np.arange(0, max(temp_df_2['swe']), 5))\n",
    "\n",
    "        # Set the title of the subplot to the station ID.\n",
    "        ax.set_title(f'{station_list[i]}')\n",
    "        # Set the x-axis label for subplots in the last row.\n",
    "        if i // n_cols == n_rows - 1:\n",
    "            ax.set_xlabel('Datetime (day)')\n",
    "\n",
    "        # Set the y-axis label for subplots in the first column.\n",
    "        if i % n_cols == 0:\n",
    "            ax.set_ylabel('Streamflow (cfs)')\n",
    "    else:\n",
    "        # Hide any unused axes.\n",
    "        ax.axis('off')\n",
    "\n",
    "# Adjust the layout to prevent overlapping elements.\n",
    "plt.tight_layout()\n",
    "# Uncomment the line below to save the figure to a file.\n",
    "# plt.savefig(f'{save_path}scatter_annual_drought_number.png')\n",
    "# Display the plot.\n",
    "plt.show()\n"
   ]
  },
  {
   "cell_type": "code",
   "execution_count": null,
   "metadata": {},
   "outputs": [],
   "source": [
    "%%time\n",
    "# Calculate the number of subplots needed based on the number of unique stations.\n",
    "n_subplots = len(station_list)\n",
    "# Determine the number of columns in the subplot grid by taking the ceiling of the square root of 'n_subplots'.\n",
    "n_cols = int(math.ceil(math.sqrt(n_subplots)))\n",
    "# Determine the number of rows in the subplot grid by dividing 'n_subplots' by 'n_cols' and taking the ceiling of that.\n",
    "n_rows = int(math.ceil(n_subplots / n_cols))\n",
    "# Set the figure size for the subplots.\n",
    "figsize = (18, 12)\n",
    "# Create a grid of subplots with specified number of rows and columns and figure size.\n",
    "fig, axes = plt.subplots(n_rows, n_cols, figsize=figsize)\n",
    "# Flatten the axes array for easier iteration.\n",
    "axes = axes.flatten()\n",
    "\n",
    "# Iterate over the axes to plot the data for each station.\n",
    "for i, ax in enumerate(axes):\n",
    "    if i < n_subplots:\n",
    "        # Extract the data for the current station from the dataset.\n",
    "        temp_df_1 = dataset[dataset.station_id == station_list[i]]\n",
    "        # Set 'datetime' as the index for plotting.\n",
    "        temp_df_2 = temp_df_1.set_index('datetime')\n",
    "        # Plot the 'flow_cfs' data on the primary y-axis.\n",
    "        ax.plot(temp_df_2.index, temp_df_2['flow_cfs'])\n",
    "        # Set the x-axis limits from the first to the last year of data.\n",
    "        start_year = pd.to_datetime(f'{temp_df_1.datetime.dt.year.min()}-01-01')\n",
    "        end_year = pd.to_datetime(f'{temp_df_1.datetime.dt.year.max()}-12-31')\n",
    "        ax.set_xlim(start_year, end_year)\n",
    "        # Rotate x-axis labels for better readability.\n",
    "        labels = ax.get_xticklabels()\n",
    "        ax.set_xticklabels(labels, rotation=45)\n",
    "\n",
    "        # Create a second y-axis for the precipitation data.\n",
    "        ax2 = ax.twinx()\n",
    "        # Plot the 'precip(mm)' data as a bar graph on the secondary y-axis.\n",
    "        ax2.bar(temp_df_2.index, temp_df_2['precip(mm)'], label='Inverted', color='red', width=25)\n",
    "        # Set the y-axis limits for precipitation, flipping the axis to make bars grow downward.\n",
    "        ax2.set_ylim(max(temp_df_2['precip(mm)']) + 1000, 0)\n",
    "        # Set the label for the secondary y-axis.\n",
    "        ax2.set_ylabel('Precipitation (mm)')\n",
    "        # Define custom ticks for the secondary y-axis.\n",
    "        ax2.set_yticks(np.arange(0, max(temp_df_2['precip(mm)']), 250))\n",
    "\n",
    "        # Set the title of the subplot to the station ID.\n",
    "        ax.set_title(f'{station_list[i]}')\n",
    "        # Set the x-axis label for subplots in the last row.\n",
    "        if i // n_cols == n_rows - 1:\n",
    "            ax.set_xlabel('Datetime (day)')\n",
    "\n",
    "        # Set the y-axis label for subplots in the first column.\n",
    "        if i % n_cols == 0:\n",
    "            ax.set_ylabel('Streamflow (cfs)')\n",
    "    else:\n",
    "        # Hide any unused axes.\n",
    "        ax.axis('off')\n",
    "\n",
    "# Adjust layout to prevent overlapping elements.\n",
    "plt.tight_layout()\n",
    "# Uncomment the line below to save the figure to a file.\n",
    "# plt.savefig(f'{save_path}scatter_annual_drought_number.png')\n",
    "# Display the plot.\n",
    "plt.show()\n"
   ]
  },
  {
   "cell_type": "markdown",
   "metadata": {},
   "source": [
    "#### 4.4. Splitting the Data \n",
    "We split 80 percent of the data for training and the rest for testing the model."
   ]
  },
  {
   "cell_type": "code",
   "execution_count": null,
   "metadata": {},
   "outputs": [],
   "source": [
    "# Create empty DataFrames for training and testing datasets.\n",
    "data_train = pd.DataFrame()\n",
    "data_test = pd.DataFrame()\n",
    "\n",
    "# Loop through each station name in the list of station IDs.\n",
    "for station_name in station_list:\n",
    "    # Extract data for the current station and reset the index.\n",
    "    temp_df_1 = dataset[dataset.station_id == station_name].reset_index(drop=True)\n",
    "    \n",
    "    # Determine the maximum and minimum years in the dataset for the current station.\n",
    "    end_year = temp_df_1.datetime.dt.year.max()\n",
    "    start_year = temp_df_1.datetime.dt.year.min()\n",
    "    \n",
    "    # Calculate the duration in years between the earliest and latest data points.\n",
    "    duration = end_year - start_year\n",
    "    \n",
    "    # Calculate the division year to split training and testing data (80% for training).\n",
    "    division_year = start_year + int(duration * 0.8)\n",
    "    \n",
    "    # Select data from the start year up to the division year for training, reset the index, and append to the training DataFrame.\n",
    "    data_train = pd.concat((data_train.reset_index(drop=True), temp_df_1[temp_df_1.datetime < f'{division_year}-01-01'].reset_index(drop=True)), axis=0).reset_index(drop=True)\n",
    "    \n",
    "    # Select data from the division year onward for testing, reset the index, and append to the testing DataFrame.\n",
    "    data_test = pd.concat((data_test.reset_index(drop=True), temp_df_1[temp_df_1.datetime >= f'{division_year}-01-01'].reset_index(drop=True)), axis=0).reset_index(drop=True)\n"
   ]
  },
  {
   "cell_type": "markdown",
   "metadata": {},
   "source": [
    "## 5. Model Development \n",
    "#### 5.1. Defining the XGBoost Model \n",
    "As mentioned, we will use XGBoost in our tutorial, and we will use the  [dmlc XGBoost package](https://xgboost.readthedocs.io/en/stable/). Understanding and tuning the model parameters is critical in any ML model development since it will affect the final model performance. The XGBoost model has different parameters, and here, we will work on the three most important parameters of XGBoost:\n",
    "  \n",
    "* **`max_depth`** This parameter determines the maximum depth of each tree. This setting controls the complexity of the tree by restricting the number of levels or splits within it. Increasing the *max_depth* can help capture more complex patterns in the data, but it can also lead to overfitting, where the model becomes too specialized in the training data and performs poorly on new data. On the other hand, reducing the *max_depth* can help prevent overfitting, but it can also result in underfitting, where the model misses relevant patterns.\n",
    "\n",
    "* **`n_estimators`** It determines the number of trees in the ensemble and controls how many boosting rounds the algorithm should perform. Boosting rounds add new trees that attempt to correct errors from previous rounds, leading to improved performance up to a point. However, too many trees can result in overfitting, where the model performs well on training data but poorly on unseen data. It also increases the running time of the model.\n",
    "\n",
    "* **`eta`** It controls the step size used to update the weights of the trees during training and determines how much each new tree contributes to the overall model. A smaller *eta* value can make the model more robust to overfitting by slowing the learning process. However, more boosting rounds (n_estimators) may be required to achieve good performance. Conversely, a larger *eta* value allows the model to learn faster but increases the risk of overfitting."
   ]
  },
  {
   "cell_type": "markdown",
   "metadata": {},
   "source": [
    "We will call the *XGBRegressor()* model and specify its parameters.\n",
    "\n",
    "**To make the process faster for this part we only use one station.**\n",
    "\n",
    "Let's start investigating different parameters and find out the best possible values!!!!!!!!!!!!!!!!!"
   ]
  },
  {
   "cell_type": "code",
   "execution_count": null,
   "metadata": {},
   "outputs": [],
   "source": [
    "def evaluate_model(params, X_train, y_train):\n",
    "    # Create an XGBoost regressor model with the provided parameters.\n",
    "    model = xgb.XGBRegressor(**params)\n",
    "    \n",
    "    # Set up cross-validation configuration with 10 splits and 3 repeats, and a fixed random state for reproducibility.\n",
    "    cv = RepeatedKFold(n_splits=10, n_repeats=3, random_state=1)\n",
    "    \n",
    "    # Perform cross-validation to evaluate the model using the negative mean absolute error as the scoring method.\n",
    "    # 'n_jobs=-1' enables using all CPU cores for parallel computation.\n",
    "    scores = cross_val_score(model, X_train, y_train, scoring='neg_mean_absolute_error', cv=cv, n_jobs=-1)\n",
    "    \n",
    "    # Return the scores from the cross-validation.\n",
    "    return scores\n"
   ]
  },
  {
   "cell_type": "code",
   "execution_count": null,
   "metadata": {},
   "outputs": [],
   "source": [
    "# Define the station ID to be used.\n",
    "station_name = '10126000'\n",
    "# Select and reset the index of feature columns from the training data where station ID matches.\n",
    "x_train = data_train[data_train.station_id == station_name].iloc[:, 2:-1].reset_index(drop=True)\n",
    "# Select and reset the index of the target column from the training data where station ID matches.\n",
    "y_train = data_train[data_train.station_id == station_name].iloc[:, -1].reset_index(drop=True)\n",
    "\n",
    "# Define the initial parameters for the XGBoost model.\n",
    "# n_estimators => 100, 2000\n",
    "# max_depth => 3, 10\n",
    "# eta => 0.01, 0.1\n",
    "\n",
    "params = {\n",
    "    'n_estimators': 200,\n",
    "    'max_depth': 5,\n",
    "    'eta': 0.1,\n",
    "}\n",
    "\n",
    "# Evaluate the model with initial parameters and calculate the mean of absolute scores.\n",
    "current_score = abs(evaluate_model(params, x_train, y_train).mean())\n",
    "print(f\"Initial score (cfs): {current_score} with params: {params}\")\n",
    "\n",
    "# Initialize the interactive tuning loop.\n",
    "continue_tuning = True\n",
    "while continue_tuning:\n",
    "    # Prompt the user if they want to continue tuning.\n",
    "    print('=====================================================================================')\n",
    "    change = \"n\" # to interact with this notebook using input(), comment out this line, and uncomment the line below\n",
    "    #change = input(\"Do you want to change any variable? (y/n): \")\n",
    "    if change.lower() == 'y':\n",
    "        # Ask which parameter to change.\n",
    "        variable = input(\"Which variable number? (n_estimators(1)/max_depth(2)/eta(3)):\")\n",
    "        # Map user input to the corresponding parameter.\n",
    "        if variable == '1':\n",
    "            variable = 'n_estimators'\n",
    "        elif variable == '2':\n",
    "            variable = 'max_depth'\n",
    "        elif variable == '3':\n",
    "            variable = 'eta'\n",
    "        else:\n",
    "            print('Error: Wrong Number')\n",
    "            break\n",
    "\n",
    "        # Prompt for the new value and validate the type.\n",
    "        value = input(f\"Enter the new value for {variable} (previous value {params[variable]}): \")\n",
    "        if variable == 'n_estimators' or variable == 'max_depth':\n",
    "            value = int(value)\n",
    "        else:\n",
    "            value = float(value)\n",
    "\n",
    "        # Update parameter and re-evaluate the model.\n",
    "        old_param = params[variable]\n",
    "        params[variable] = value\n",
    "        new_score = evaluate_model(params, x_train, y_train)\n",
    "        print('**********************************************')\n",
    "        print('Previous Mean Score (cfs): %.3f (Previous Score SD: %.3f)' % (abs(current_score.mean()), current_score.std()))\n",
    "        print('New Mean Score (cfs): %.3f (New Score SD: %.3f)' % (abs(new_score.mean()), new_score.std()))\n",
    "        print('**********************************************')\n",
    "        current_score = new_score\n",
    "\n",
    "        # Prompt if the new parameter setting should be kept.\n",
    "        keep_answer = input(f\"Do you want to keep the new variable?(y/n): \")\n",
    "        if keep_answer == 'n':\n",
    "            params[variable] = old_param\n",
    "    else:\n",
    "        # Exit tuning loop.\n",
    "        continue_tuning = False\n",
    "        print(f\"Finished tuning ====================> Final parameters: {params}.\")\n"
   ]
  },
  {
   "cell_type": "markdown",
   "metadata": {},
   "source": [
    "#### !!!! Don't forget to train and save your model after tuning the hyperparameters as a Pickle file.\n"
   ]
  },
  {
   "cell_type": "code",
   "execution_count": null,
   "metadata": {},
   "outputs": [],
   "source": [
    "# Instantiate an XGBoost regressor model with the specified parameters.\n",
    "xgboost_model = xgb.XGBRegressor(**params)\n",
    "\n",
    "# Fit the model using the training dataset.\n",
    "xgboost_model.fit(x_train, y_train)\n",
    "\n",
    "# Save the trained model to a file using the pickle library for later use.\n",
    "# 'save_path' should be defined earlier in your script and point to a directory where you have write permissions.\n",
    "pickle.dump(xgboost_model, open(f'{output_path}best_manuall_model.pkl', \"wb\"))\n"
   ]
  },
  {
   "cell_type": "code",
   "execution_count": null,
   "metadata": {},
   "outputs": [],
   "source": [
    "data_train.to_pickle(f\"{output_path}train_dataset.pkl\")\n",
    "data_test.to_pickle(f\"{output_path}test_dataset.pkl\")"
   ]
  },
  {
   "cell_type": "markdown",
   "metadata": {},
   "source": [
    "[**LETS GO TO THE NEXT PART**](./02.tutorial_post_processing_xgboost_automatic_tuning.ipynb)"
   ]
  },
  {
   "cell_type": "code",
   "execution_count": null,
   "metadata": {},
   "outputs": [],
   "source": []
  }
 ],
 "metadata": {
  "interpreter": {
   "hash": "7d941b521942abff02888ea7873cca51c2aac5fb2f3b440dbf15a61d263ddb0d"
  },
  "kernelspec": {
   "display_name": "Python 3 (ipykernel)",
   "language": "python",
   "name": "python3"
  },
  "language_info": {
   "codemirror_mode": {
    "name": "ipython",
    "version": 3
   },
   "file_extension": ".py",
   "mimetype": "text/x-python",
   "name": "python",
   "nbconvert_exporter": "python",
   "pygments_lexer": "ipython3",
   "version": "3.11.9"
  }
 },
 "nbformat": 4,
 "nbformat_minor": 4
}
